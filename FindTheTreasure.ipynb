{
  "nbformat": 4,
  "nbformat_minor": 0,
  "metadata": {
    "colab": {
      "provenance": [],
      "authorship_tag": "ABX9TyNGUN0FTrGWUbj2N3pjfuO9",
      "include_colab_link": true
    },
    "kernelspec": {
      "name": "python3",
      "display_name": "Python 3"
    },
    "language_info": {
      "name": "python"
    }
  },
  "cells": [
    {
      "cell_type": "markdown",
      "metadata": {
        "id": "view-in-github",
        "colab_type": "text"
      },
      "source": [
        "<a href=\"https://colab.research.google.com/github/MuhammadRustamShomi/AI-For-Beginners/blob/main/FindTheTreasure.ipynb\" target=\"_parent\"><img src=\"https://colab.research.google.com/assets/colab-badge.svg\" alt=\"Open In Colab\"/></a>"
      ]
    },
    {
      "cell_type": "code",
      "execution_count": 1,
      "metadata": {
        "colab": {
          "base_uri": "https://localhost:8080/"
        },
        "id": "ZhutIij5X3fQ",
        "outputId": "a89e832a-036f-4765-8076-7aad6d7f532a"
      },
      "outputs": [
        {
          "output_type": "stream",
          "name": "stdout",
          "text": [
            "Welcome to 'Find the Treasure'!\n",
            "The treasure is hidden behind one of the clues!\n",
            "Can you guess where it is?\n",
            "Enter your guess (a number between 1 and 20): 12\n",
            "Step 1: Checking clue 10 (Desert)\n",
            "The treasure is earlier than clue 10.\n",
            "Step 2: Checking clue 5 (Valley)\n",
            "The treasure is earlier than clue 5.\n",
            "Step 3: Checking clue 2 (Oak Tree)\n",
            "The treasure is further ahead than clue 2.\n",
            "Step 4: Checking clue 3 (River)\n",
            "The treasure is further ahead than clue 3.\n",
            "Step 5: Checking clue 4 (Mountain)\n",
            "Congratulations! You found the treasure behind clue 4 (Mountain)!\n",
            "It took 5 steps to find the treasure.\n",
            "You guessed 12, but the treasure was behind clue 4 (Mountain).\n"
          ]
        }
      ],
      "source": [
        "import random\n",
        "\n",
        "def find_the_treasure():\n",
        "    print(\"Welcome to 'Find the Treasure'!\")\n",
        "    clues = [\n",
        "        \"Pine Tree\", \"Oak Tree\", \"River\", \"Mountain\", \"Valley\", \"Cave\", \"Waterfall\",\n",
        "        \"Lake\", \"Forest\", \"Desert\", \"Fountain\", \"Statue\", \"Bridge\", \"Tunnel\",\n",
        "        \"Castle\", \"Moat\", \"Tower\", \"Garden\", \"Park\", \"Temple\"\n",
        "    ]\n",
        "\n",
        "    # The treasure is randomly placed at a clue\n",
        "    treasure_location = random.randint(1, 20)\n",
        "\n",
        "    print(\"The treasure is hidden behind one of the clues!\")\n",
        "    print(\"Can you guess where it is?\")\n",
        "\n",
        "    user_guess = int(input(\"Enter your guess (a number between 1 and 20): \"))\n",
        "\n",
        "    steps = 0\n",
        "    low = 1\n",
        "    high = 20\n",
        "\n",
        "    while low <= high:\n",
        "        steps += 1\n",
        "        mid = (low + high) // 2\n",
        "        print(f\"Step {steps}: Checking clue {mid} ({clues[mid-1]})\")\n",
        "\n",
        "        if mid == treasure_location:\n",
        "            print(f\"Congratulations! You found the treasure behind clue {mid} ({clues[mid-1]})!\")\n",
        "            print(f\"It took {steps} steps to find the treasure.\")\n",
        "            break\n",
        "        elif mid < treasure_location:\n",
        "            print(f\"The treasure is further ahead than clue {mid}.\")\n",
        "            low = mid + 1\n",
        "        else:\n",
        "            print(f\"The treasure is earlier than clue {mid}.\")\n",
        "            high = mid - 1\n",
        "\n",
        "    if user_guess != treasure_location:\n",
        "        print(f\"You guessed {user_guess}, but the treasure was behind clue {treasure_location} ({clues[treasure_location-1]}).\")\n",
        "\n",
        "# Run the game\n",
        "find_the_treasure()\n"
      ]
    },
    {
      "cell_type": "code",
      "source": [],
      "metadata": {
        "id": "KyeJ8tXbX9oX"
      },
      "execution_count": null,
      "outputs": []
    }
  ]
}